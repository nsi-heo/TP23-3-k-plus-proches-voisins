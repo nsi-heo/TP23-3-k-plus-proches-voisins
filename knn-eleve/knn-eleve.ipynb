{
 "cells": [
  {
   "cell_type": "markdown",
   "metadata": {},
   "source": [
    "<center><h1><font size=\"6.5\"\n",
    "          face=\"verdana\"\n",
    "          color=\"red\"> Algorithme des k plus proches voisins </font></h1></center>\n",
    "\n",
    "---\n",
    "### Programme\n",
    "<table>\n",
    "    \n",
    "        \n",
    "   <tbody>\n",
    "        <tr>\n",
    "            <td>Algorithme des k plus proches voisins</td>\n",
    "            <td>Écrire un algorithme qui prédit la classe d’un élément en fonction de la classe majoritaire de ses k plus proches voisins.</td>\n",
    "            <td>Il s’agit d’un exemple d’algorithme d’apprentissage.</td>\n",
    "        </tr>\n",
    "    </tbody>\n",
    "</table>\n",
    "\n",
    "\n",
    "\n",
    "\t\t\n",
    "\n",
    "<h1><font size=\"6\"\n",
    "          face=\"verdana\"\n",
    "          color=\"green\"> I.\tIntroduction </font></h1>\n",
    "<hr />\n",
    "\n",
    "<h2>Première approche :</h2>\n",
    "\n",
    "Imaginez qu’un ordinateur soit un enfant, nous en sommes le superviseur (un parent ou un enseignant, par exemple) et nous souhaitons que l’enfant (l’ordinateur) apprenne à quoi ressemble un cochon. Nous montrerons à l’enfant plusieurs images différentes, dont certaines sont des cochons et le reste pourrait être des images de n’importe quel autre animal (chats, chiens, etc.).\n",
    "Quand on voit un cochon, on crie «cochon!». Quand ce n’est pas un cochon, on crie «non, pas cochon!». \n",
    "Après avoir répété cela plusieurs fois avec l’enfant, on lui montre une photo et on lui demande: «cochon ou pas?». La plupart du temps, il va correctement identifier la présence ou non d’un cochon sur l’image.\n",
    "\n",
    "![cochon](images/cochon.jpg)\n",
    "\n",
    "<center> “Cochon!” </center>\n",
    "\n",
    "A travers cette situation simpliste voici donc une illustration de ce qu’est un algorithme d’apprentissage supervisé (Machine learning supervisé).\n",
    "\n",
    "\n",
    "\n",
    "\n",
    "\n",
    "\n",
    "\n",
    "\n",
    "\n",
    "\n",
    "\n",
    "Ces algorithmes de Machine Learning supervisés sont utilisés pour résoudre des problèmes de classification.\n",
    "\n",
    "<h2>Autre exemple :</h2>\n",
    "\n",
    "La Poste, dans les années 70, met en place le premier équipement de lecture automatique de codes postaux et d'adresses (le LIAP) permettant ainsi de \"pré-trier\" le courrier sur 15 directions.\n",
    "\n",
    "\n",
    "Quel est le principe ?\n",
    "A partir de données de référence déjà classées (train=entraînement), la machine « reconnaît » ce qu’est le chiffre manuscrit zéro, un, deux… \n",
    "\n",
    "![chiffres manuscrits](images/chiffres-manuscrits.png)\n",
    "\n",
    "Ensuite, à partir de données non classées, ici notre enveloppe, on applique l’algorithme qui en comparant avec les données classées (train) reconnaît à 99% le bon code postal et le transcrira de façon informatique.\n",
    "![enveloppe manuscrite](images/enveloppe.jpg)\n",
    "\n",
    "<h1><font size=\"6\"\n",
    "          face=\"verdana\"\n",
    "          color=\"green\"> II.\tL’algorithme des k plus proches voisins </font></h1>\n",
    "<hr />\n",
    " \n",
    "\n",
    "L’algorithme des k plus proches voisins ou k-nearest neighbors (kNN) est un algorithme d’apprentissage automatique qui à partir d’un jeu de données classées (ex : nos chiffres manuscrits déjà classés correctement) permet de prédire la classe d’une nouvelle donnée (le code postal d’une lettre). \n",
    "Son principe consiste à choisir les k données les plus proches de la donnée étudiée afin d’en prédire sa classe (problème de classification).\n",
    "\n",
    "<p>Avec cette image,<img src=\"images/chiffre2.jpg\"  style=\"float:left\" alt=\"\" style = \"margin-right: 15px; border:1px solid black;\" /> l’algorithme fournira par exemple pour ses 3 plus proches voisins : <font size=\"3\" color=\"red\">2</font> ;9 et <font size=\"3\" color=\"red\">2</font>.</p>\n",
    "On retiendra alors le chiffre 2, majoritairement prédit par la machine. \n",
    "\n",
    "L’algorithme knn est un exemple simple de « Machine Learning » dont le domaine est la chasse gardée des « data scientists » qui sont actuellement très prisés sur le marché du travail.\n",
    "\n",
    "\n",
    "Exemple : ([source](https://nadjarebinguet.wordpress.com/2020/03/20/algorithme-des-k-plus-proches-voisins/))\n",
    "Imaginons… On étudie des papillons. Ceux-ci ont une certaine largeur et une certaine longueur. Certains sont des males, d’autres des femelles.\n",
    "On étudie un certain nombre de ces papillons. Cela constitue un jeu d’apprentissage dont les caractéristiques sont représentées ci-dessous.\n",
    "A partir de ce jeu d’apprentissage, on cherche à prédire le sexe d’un papillon dont on connaît les dimensions.\n",
    "\n",
    "![pap1](images/pap1.jpg)\n",
    "\n",
    "\n",
    "\n",
    "\n",
    "\n",
    "\n",
    "\n",
    "Pour ce premier cas, on n’a pas beaucoup d’hésitation : Le papillon est « au milieu » des femelles : \n",
    "On peut raisonnablement penser que c’est une femelle.\n",
    "\n",
    "\n",
    "![pap2](images/pap2.jpg)\n",
    "\n",
    "\n",
    "\n",
    "\n",
    "\n",
    "\n",
    "\n",
    "\n",
    "\n",
    "Dans ce second cas, il est plus difficile de savoir… C’est là qu’intervient  l’algorithme des k-plus proches voisins. On décide que le papillon a le même sexe que ces k-plus proches voisins\n",
    "\n",
    "\n",
    "Ici, on a décidé (c’est un choix arbitraire !) de regarder le plus proche voisin (k=1). C’est un mâle, on fait donc l’hypothèse que notre papillon est un mâle.\n",
    "\n",
    "\n",
    "![pap3](images/pap3.jpg)\n",
    "\n",
    "\n",
    "\n",
    "\n",
    "\n",
    "Maintenant, on a décidé de regarder le 3 plus proches voisins (k=3). Parmi eux, 1 est un mâle, 2 sont des femelles : on fait donc l’hypothèse que notre papillon est une femelle.\n",
    "\n",
    "\n",
    "\n",
    "![pap4](images/pap4.jpg)\n",
    "\n",
    "\n",
    "\n",
    "**Conclusion** : Le résultat de notre prédiction peut ainsi dépendre du choix du nombre de voisins recherchés."
   ]
  },
  {
   "cell_type": "markdown",
   "metadata": {},
   "source": [
    "\n",
    "\n",
    "**A faire vous-même 1 :**\n",
    "Que prévoit-on si on prend k=1, k=3, k=7 ou k=6 ?\t\t[Utilisez le fichier geogebra](https://www.geogebra.org/m/zhbhycsh)\n"
   ]
  },
  {
   "cell_type": "raw",
   "metadata": {},
   "source": [
    "Réponses :  "
   ]
  },
  {
   "cell_type": "markdown",
   "metadata": {},
   "source": [
    "<h1><font size=\"6\"\n",
    "          face=\"verdana\"\n",
    "          color=\"green\"> III.\tL’algorithme des k plus proches voisins </font></h1>\n",
    "<hr />\n",
    " \n",
    "\n",
    "### L’algorithme\n",
    "\n",
    "Maintenant que nous avons compris le principe de cet algorithme, reste à l’écrire, d’abord en langage naturel. \n",
    "\n",
    "`Algorithme_KNN(Inconnu, k, jeu d’apprentissage étiqueté)` :\n",
    "\n",
    "* Pour chaque donnée D du jeu d’apprentissage étiqueté: \n",
    "\n",
    "    * Calculer la distance (Inconnu, D)\n",
    "\n",
    "    * La mémoriser dans une liste ListeDistance\n",
    "\n",
    "* Trier la ListeDistance dans l’ordre croissant\n",
    "\n",
    "    * Choisir les k premières valeurs de cette liste\n",
    "\n",
    "    * Renvoyer la classe majoritaire parmi ces k valeurs.\n",
    "\n",
    "### Bilan : \n",
    "\n",
    "    (+) L’algorithme est simple et facile à mettre en œuvre.\n",
    "\n",
    "    (-) Le choix de la distance et du nombre de voisins peut ne pas être évident.\n",
    "\n",
    "L’algorithme KNN est un algorithme d’apprentissage simple à mettre en œuvre et à comprendre, mais présente l’inconvénient majeur de ralentir considérablement à mesure que la taille des données utilisées augmente.\n",
    "\n",
    "En résumé, KNN recherche les distances entre une donnée « inconnue » et toutes les données de la base d’apprentissage, sélectionne les K candidats de la base d’apprentissage ayant la distance la plus petite, puis vote pour l’étiquette la plus fréquente.\n",
    "\n",
    "Ajoutons que cet algorithme peut aussi être utilisé sur des données dont la sortie est un nombre réel (valeur continue, le poids d’une personne à prédire par exemple). Dans ce cas, l’algorithme renvoie la moyenne des étiquettes à la place de l’étiquette la plus fréquente. On parle alors d’algorithme de régression.\n",
    "\n"
   ]
  },
  {
   "cell_type": "markdown",
   "metadata": {},
   "source": [
    "<h1><font size=\"6\"\n",
    "          face=\"verdana\"\n",
    "          color=\"green\"> IV.\tCodons cet algorithme sur un cas concret </font></h1>\n",
    "<hr />"
   ]
  },
  {
   "cell_type": "markdown",
   "metadata": {},
   "source": [
    "Nous allons étudier trois espèces d'iris en nous interessant plus particulièrement aux différentes longueurs et largeurs de pétales. \n",
    "Nous espérons ainsi pouvoir identifier 30 iris dont l'espèce n'a pas encore été indiquée, à partir d'un jeu de données de 120 iris (train) dont l'espèce a été identifiée.\n",
    "\n",
    "\n",
    "![iris](images/iris.jpg)\n",
    "\n"
   ]
  },
  {
   "cell_type": "markdown",
   "metadata": {},
   "source": [
    "Nous allons utiliser sans entrer dans les détails des bibliothèques indipensables pour le `Machine Learning` :\n",
    "- Pandas : tableaux performants permettant le traitement rapide de données de taille importante ([tuto](https://www.youtube.com/watch?v=zZkNOdBWgFQ&list=PLO_fdPEVlfKqMDNmCFzQISI2H_nJcEDJq&index=17))\n",
    "- matplotlib : dessin, graphique pour illustrer les données ([tuto](https://www.youtube.com/watch?v=O_OeWxpnUc0))\n",
    "- scikit-learn : algorithme des k plus proches voisins et bien d'autres dédiés au `Machine Learning` ([tuto](https://www.youtube.com/watch?v=P6kSc3qVph0&list=PLO_fdPEVlfKqMDNmCFzQISI2H_nJcEDJq&index=20))\n",
    "\n",
    ">*Les tutos ne sont pas indispensables mais sont à disposition pour les élèves curieux...*"
   ]
  },
  {
   "cell_type": "code",
   "execution_count": 1,
   "metadata": {},
   "outputs": [],
   "source": [
    "#Affichage avec la bibliothèque graphique intégrée à Notebook\n",
    "%matplotlib inline\n",
    "\n",
    "#import de la bibiliothèque pandas permettant d'utiliser les dataFrames\n",
    "import pandas\n",
    "#import de la bibiliothèque pyplot permettant de créer des graphes\n",
    "import matplotlib.pyplot as plt\n",
    "\n",
    "#Import de bibliothèques dont de math (cos, sin), de Random (hasard)\n",
    "from math import pi\n",
    "import random\n",
    "from pylab import *\n",
    "\n",
    "#bibliothèque personnelle permettant d'appeler la fonction scikit_test qui utilise \n",
    "#La bibliothèque scikit-learn pour faire du \"Machine Learning\"\n",
    "from scikit_t import scikit_test\n",
    "\n",
    "k = 3  #Nombre de plus proches voisins\n",
    "\n",
    "#Echelle du graphe\n",
    "ratio = 1\n",
    "\n",
    "#Coordonnées d'un point limite de frontière\n",
    "\n",
    "x_test2 = 2.5\n",
    "y_test2 = 0.75\n",
    "r_test2 = 0.85  #rayon autour du pt 2.5 0.75\n",
    "pt_test2=(x_test2,y_test2)\n",
    "\n",
    "#Chargement du jeu de données\n",
    "iris = pandas.read_csv(\"iris.csv\")\n",
    "x = iris[\"petal_length\"]\n",
    "y = iris[\"petal_width\"]\n",
    "lab = iris[\"species\"]\n",
    "\n",
    "iris.head() #Permet d'afficher les premiers éléments d'une dataFrame (format des tableaux de la bibliothèque pandas)"
   ]
  },
  {
   "cell_type": "markdown",
   "metadata": {},
   "source": [
    "**A faire vous-même 2 :** \n",
    "\n",
    "Exécuter le code ci-dessus et comparez le résultat obtenu avec le contenu du fichier `iris.csv`. Vous pouvez l'ouvrir à partir de Jupyter.\n",
    "\n",
    "Combien de fleurs sont répeertoriées dans ce fichier?\n"
   ]
  },
  {
   "cell_type": "raw",
   "metadata": {},
   "source": [
    "Réponse : "
   ]
  },
  {
   "cell_type": "markdown",
   "metadata": {},
   "source": [
    "Le code qui suit permet de mélanger le jeu de données sur les iris, de manière à ce que les espèces ne soient plus triées."
   ]
  },
  {
   "cell_type": "code",
   "execution_count": 37,
   "metadata": {},
   "outputs": [],
   "source": [
    "####Choix aléatoire d'un jeu de test########################################\n",
    "#Mélange aléatoire (seed = None) des données, aléatoire controlé avec seed\n",
    "seed = 98497848\n",
    "iris = iris.sample(frac=1,random_state=seed)\n",
    "\n",
    "#Réindexation du jeu de données mélangé\n",
    "iris.reset_index(drop = True, inplace = True)\n",
    "iris_test = iris.loc[:29][:]    #jeu de 30 fleurs à tester\n",
    "iris_train = iris.loc[30:][:]   #jeu de 120 fleurs pour s'entrainer\n",
    "###############################################################################"
   ]
  },
  {
   "cell_type": "markdown",
   "metadata": {},
   "source": [
    "**A faire vous-même 3 :** \n",
    "\n",
    "Après avoir analysé le code ci-dessus, completer en python la ligne ci-dessous permettant d'afficher le contenu entier du dataFrame `iris_test`.\n"
   ]
  },
  {
   "cell_type": "code",
   "execution_count": null,
   "metadata": {},
   "outputs": [],
   "source": [
    "##TO DO"
   ]
  },
  {
   "cell_type": "raw",
   "metadata": {},
   "source": [
    "Combien y-aura-t-il de fleurs à tester? \n",
    "\n",
    "Reponse : "
   ]
  },
  {
   "cell_type": "markdown",
   "metadata": {},
   "source": [
    "**A faire vous-même 4 :** \n",
    "\n",
    "En utilisant la commande adéquate, afficher les premières lignes seulement du dataFrame `iris_train`.\n"
   ]
  },
  {
   "cell_type": "code",
   "execution_count": null,
   "metadata": {},
   "outputs": [],
   "source": [
    "## TO DO"
   ]
  },
  {
   "cell_type": "raw",
   "metadata": {},
   "source": [
    "Combien y-aura-t-il de fleurs de référence pour faire fonctionner l'algorithme? \n",
    "\n",
    "Reponse : "
   ]
  },
  {
   "cell_type": "code",
   "execution_count": 3,
   "metadata": {},
   "outputs": [
    {
     "name": "stderr",
     "output_type": "stream",
     "text": [
      "C:\\Users\\emaga\\Anaconda3\\lib\\site-packages\\ipykernel_launcher.py:3: MatplotlibDeprecationWarning: Adding an axes using the same arguments as a previous axes currently reuses the earlier instance.  In a future version, a new instance will always be created and returned.  Meanwhile, this warning can be suppressed, and the future behavior ensured, by passing a unique label to each axes instance.\n",
      "  This is separate from the ipykernel package so we can avoid doing imports until\n"
     ]
    },
    {
     "ename": "NameError",
     "evalue": "name 'iris_train' is not defined",
     "output_type": "error",
     "traceback": [
      "\u001b[1;31m---------------------------------------------------------------------------\u001b[0m",
      "\u001b[1;31mNameError\u001b[0m                                 Traceback (most recent call last)",
      "\u001b[1;32m<ipython-input-3-172cd3d1e7a8>\u001b[0m in \u001b[0;36m<module>\u001b[1;34m\u001b[0m\n\u001b[0;32m     16\u001b[0m \u001b[1;33m\u001b[0m\u001b[0m\n\u001b[0;32m     17\u001b[0m \u001b[1;31m####################Préparation du jeu de données et de test##################\u001b[0m\u001b[1;33m\u001b[0m\u001b[1;33m\u001b[0m\u001b[1;33m\u001b[0m\u001b[0m\n\u001b[1;32m---> 18\u001b[1;33m \u001b[0miris_train\u001b[0m\u001b[1;33m[\u001b[0m\u001b[1;34m'species'\u001b[0m\u001b[1;33m]\u001b[0m\u001b[1;33m.\u001b[0m\u001b[0mreplace\u001b[0m\u001b[1;33m(\u001b[0m\u001b[1;33m[\u001b[0m\u001b[1;36m0\u001b[0m\u001b[1;33m,\u001b[0m \u001b[1;36m1\u001b[0m\u001b[1;33m,\u001b[0m \u001b[1;36m2\u001b[0m\u001b[1;33m]\u001b[0m\u001b[1;33m,\u001b[0m \u001b[1;33m[\u001b[0m\u001b[1;34m'setosa'\u001b[0m\u001b[1;33m,\u001b[0m \u001b[1;34m'virginica'\u001b[0m\u001b[1;33m,\u001b[0m \u001b[1;34m'versicolor'\u001b[0m\u001b[1;33m]\u001b[0m\u001b[1;33m,\u001b[0m\u001b[0minplace\u001b[0m\u001b[1;33m=\u001b[0m\u001b[1;32mTrue\u001b[0m\u001b[1;33m)\u001b[0m\u001b[1;33m\u001b[0m\u001b[1;33m\u001b[0m\u001b[0m\n\u001b[0m\u001b[0;32m     19\u001b[0m \u001b[0miris_test\u001b[0m\u001b[1;33m[\u001b[0m\u001b[1;34m'species'\u001b[0m\u001b[1;33m]\u001b[0m\u001b[1;33m.\u001b[0m\u001b[0mreplace\u001b[0m\u001b[1;33m(\u001b[0m\u001b[1;33m[\u001b[0m\u001b[1;36m0\u001b[0m\u001b[1;33m,\u001b[0m \u001b[1;36m1\u001b[0m\u001b[1;33m,\u001b[0m \u001b[1;36m2\u001b[0m\u001b[1;33m]\u001b[0m\u001b[1;33m,\u001b[0m \u001b[1;33m[\u001b[0m\u001b[1;34m'setosa'\u001b[0m\u001b[1;33m,\u001b[0m \u001b[1;34m'virginica'\u001b[0m\u001b[1;33m,\u001b[0m \u001b[1;34m'versicolor'\u001b[0m\u001b[1;33m]\u001b[0m\u001b[1;33m,\u001b[0m\u001b[0minplace\u001b[0m\u001b[1;33m=\u001b[0m\u001b[1;32mTrue\u001b[0m\u001b[1;33m)\u001b[0m\u001b[1;33m\u001b[0m\u001b[1;33m\u001b[0m\u001b[0m\n\u001b[0;32m     20\u001b[0m \u001b[1;33m\u001b[0m\u001b[0m\n",
      "\u001b[1;31mNameError\u001b[0m: name 'iris_train' is not defined"
     ]
    }
   ],
   "source": [
    "#Dessin du nuages de points de chaque famille de fleurs####################\n",
    "fig = plt.figure()\n",
    "ax = fig.add_subplot(111)\n",
    "ax.set_aspect(ratio)  # je choisi le ratio DX/DY pour les echelles des axes\n",
    "ax.scatter(x[lab == 0], y[lab == 0], color='g', label='setosa', alpha=0.3)\n",
    "ax.scatter(x[lab == 1], y[lab == 1], color='r', label='virginica', alpha=0.3)\n",
    "ax.scatter(x[lab == 2], y[lab == 2], color='b', label='versicolor', alpha=0.3)\n",
    "ax.legend()\n",
    "#Point test##############################################################\n",
    "ax.scatter([x_test2], [y_test2], marker='X', color='k', label='inconnu', s=25)\n",
    "\n",
    "#Tracer de cerclces autour du point pour lequel on veut faire une prédiction\n",
    "t = np.linspace(0, 2 * pi, 100)\n",
    "ax.plot(x_test2 + r_test2 * np.cos(t), y_test2 + r_test2 * np.sin(t), color='k')\n",
    "##############################################################\n",
    "\n",
    "####################Préparation du jeu de données et de test##################\n",
    "iris_train['species'].replace([0, 1, 2], ['setosa', 'virginica', 'versicolor'],inplace=True)\n",
    "iris_test['species'].replace([0, 1, 2], ['setosa', 'virginica', 'versicolor'],inplace=True)\n",
    "\n",
    "#On enregistre la colonne species pour pouvoir comparer après les prédiction\n",
    "iris_test_species_record = iris_test['species']\n",
    "iris_test.drop('species', axis=1, inplace=True)  #On enlève la colonne species pour le jeu de test\n",
    "\n",
    "###############################################################################"
   ]
  },
  {
   "cell_type": "markdown",
   "metadata": {},
   "source": [
    "**A faire vous-même 5 :** \n",
    "\n",
    "Analyser et exécuter le code ci-dessus.\n",
    "\n",
    "---\n",
    "\n",
    "**A faire vous-même 6 :** \n",
    "\n",
    "Compléter le code la fonction ci-dessous afin que les assertions soient vraies.\n"
   ]
  },
  {
   "cell_type": "code",
   "execution_count": 39,
   "metadata": {},
   "outputs": [],
   "source": [
    "def distance(pt1, pt2):\n",
    "    \"\"\"\n",
    "    Description :Calcule la distance entre deux points \n",
    "\n",
    "    paramètres :\n",
    "        - pt1 : tuple contenant l'abscisse x1 et l'ordonnée y1 du point pt1=(x1,y1)\n",
    "        - pt2 : tuple contenant x2 et y2\n",
    "\n",
    "    retour :\n",
    "        - Distance entre deux points en tenant compte du ratio\n",
    "    \"\"\"\n",
    "    return (None)  ###########To DO ##########\n",
    "    #Distance entre les deux points  \n",
    "\n",
    "\n",
    "#Test de la fonction###########################\n",
    "assert distance((1,2),(4,6))== 5\n",
    "assert distance((1,2),(7,10))== 10\n",
    "\n"
   ]
  },
  {
   "cell_type": "markdown",
   "metadata": {},
   "source": [
    "---\n",
    "\n",
    "**A faire vous-même 7 :** \n",
    "\n",
    "Compléter le code la fonction ci-dessous afin que les assertions soient vraies."
   ]
  },
  {
   "cell_type": "code",
   "execution_count": 41,
   "metadata": {},
   "outputs": [],
   "source": [
    "def plus_proche_voisin(pt_inconnu, train, k):\n",
    "    \"\"\"\n",
    "    Explications : Cherche les k voisins les plus proche du point (pt) dans le jeu\n",
    "    de données train et retourne l'espèce (species) la plus fréquente parmi les\n",
    "    k voisins trouvés\n",
    "\n",
    "    Paramètres :\n",
    "        - pt_inconnu : point dont on ne connait pas la classe sous forme de tuple\n",
    "        - k : nombre de voisins les plus proches\n",
    "        - train : jeu de données\n",
    "\n",
    "    retour : l'espèce (species) la plus fréquente parmi les\n",
    "    k voisins trouvés (str)\n",
    "\n",
    "    \"\"\"\n",
    "    distances = []\n",
    "\n",
    "    for ligne_train in train.itertuples():\n",
    "\n",
    "        dist = distance((ligne_train.petal_length, ligne_train.petal_width),pt_inconnu)\n",
    "        \n",
    "        #Ajouter les dist dans la liste distances\n",
    "        ###########To DO ##########\n",
    "\n",
    "    train['dist'] = distances #Ajoute une clé dist aux données\n",
    "    distances = iris_train[['dist', 'species']] #Sélectionne uniquement les champs dist et species du jeu train\n",
    "    \n",
    "    #Tri de la liste distance ordre croissant suivant les dist avec la méthode sort_values()\n",
    "    ###########To DO ##########\n",
    "    \n",
    "    \n",
    "    #Sélectionne les k premiers avec la méthode head()\n",
    "    ###########To DO ##########\n",
    "    \n",
    "    result = head['species'].value_counts()\n",
    "        \n",
    "    return result.index[0]  \n",
    "    #renvoie l'espèce la plus présente (fréquence la plus élevée)\n",
    "\n",
    "############TESTS################################################\n",
    "assert plus_proche_voisin(pt_test2, iris_train, k) == 'setosa'"
   ]
  },
  {
   "cell_type": "markdown",
   "metadata": {},
   "source": [
    "---\n",
    "\n",
    "**A faire vous-même 8 :** \n",
    "\n",
    "Compléter le code la fonction ci-dessous afin que les assertions soient vraies."
   ]
  },
  {
   "cell_type": "code",
   "execution_count": 4,
   "metadata": {},
   "outputs": [
    {
     "ename": "IndentationError",
     "evalue": "expected an indented block (<ipython-input-4-a7982bf988d2>, line 18)",
     "output_type": "error",
     "traceback": [
      "\u001b[1;36m  File \u001b[1;32m\"<ipython-input-4-a7982bf988d2>\"\u001b[1;36m, line \u001b[1;32m18\u001b[0m\n\u001b[1;33m    return (previsions)\u001b[0m\n\u001b[1;37m         ^\u001b[0m\n\u001b[1;31mIndentationError\u001b[0m\u001b[1;31m:\u001b[0m expected an indented block\n"
     ]
    }
   ],
   "source": [
    "def eprouver_test(test, k):\n",
    "    \"\"\"\n",
    "    Explications : prend un jeu de test et donne les prévisions sur les species\n",
    "    de ce test (k plus proches voisins)\n",
    "\n",
    "    Paramètres :\n",
    "        - k : nombre de voisins les plus proches\n",
    "        - test : jeu de données à tester dont on veut prédire les espèces\n",
    "\n",
    "    retour : previsions (liste des prévisions des espèces sur le jeu de test)\n",
    "\n",
    "    \"\"\"\n",
    "    previsions = []\n",
    "    for ligne_test in test.itertuples():\n",
    "        ###########To DO ##########\n",
    "        \n",
    "\n",
    "    return (previsions)\n",
    "\n",
    "#Affichage des prévisions######\"\"\n",
    "print(eprouver_test(iris_test, k))\n",
    "\n",
    "############Tests#######################################################\n",
    "if k == 3:\n",
    "    for i in range (30):\n",
    "        assert eprouver_test(iris_test, 3)[i] == iris_test_species_record[i]"
   ]
  },
  {
   "cell_type": "markdown",
   "metadata": {},
   "source": [
    "---\n",
    "\n",
    "**A faire vous-même 9 :** \n",
    "\n",
    "Compléter le code la fonction ci-dessous afin que les assertions soient vraies."
   ]
  },
  {
   "cell_type": "code",
   "execution_count": 5,
   "metadata": {},
   "outputs": [
    {
     "name": "stdout",
     "output_type": "stream",
     "text": [
      "\n",
      "\n",
      "Prévisions maison avec k =  3\n"
     ]
    },
    {
     "ename": "NameError",
     "evalue": "name 'eprouver_test' is not defined",
     "output_type": "error",
     "traceback": [
      "\u001b[1;31m---------------------------------------------------------------------------\u001b[0m",
      "\u001b[1;31mNameError\u001b[0m                                 Traceback (most recent call last)",
      "\u001b[1;32m<ipython-input-5-f0e7c305def6>\u001b[0m in \u001b[0;36m<module>\u001b[1;34m\u001b[0m\n\u001b[0;32m     26\u001b[0m \u001b[1;33m\u001b[0m\u001b[0m\n\u001b[0;32m     27\u001b[0m \u001b[0mprint\u001b[0m\u001b[1;33m(\u001b[0m\u001b[1;34m\"\\n\\nPrévisions maison avec k = \"\u001b[0m\u001b[1;33m,\u001b[0m \u001b[0mk\u001b[0m\u001b[1;33m)\u001b[0m\u001b[1;33m\u001b[0m\u001b[1;33m\u001b[0m\u001b[0m\n\u001b[1;32m---> 28\u001b[1;33m \u001b[0mscore\u001b[0m\u001b[1;33m,\u001b[0m \u001b[0mprevisions\u001b[0m \u001b[1;33m=\u001b[0m \u001b[0mscore_knn\u001b[0m\u001b[1;33m(\u001b[0m\u001b[0mk\u001b[0m\u001b[1;33m)\u001b[0m\u001b[1;33m\u001b[0m\u001b[1;33m\u001b[0m\u001b[0m\n\u001b[0m\u001b[0;32m     29\u001b[0m \u001b[0mprint\u001b[0m\u001b[1;33m(\u001b[0m\u001b[0mprevisions\u001b[0m\u001b[1;33m)\u001b[0m\u001b[1;33m\u001b[0m\u001b[1;33m\u001b[0m\u001b[0m\n\u001b[0;32m     30\u001b[0m \u001b[0mprint\u001b[0m\u001b[1;33m(\u001b[0m\u001b[1;34m'score : '\u001b[0m\u001b[1;33m,\u001b[0m \u001b[0mscore\u001b[0m\u001b[1;33m,\u001b[0m \u001b[1;34m' %'\u001b[0m\u001b[1;33m)\u001b[0m\u001b[1;33m\u001b[0m\u001b[1;33m\u001b[0m\u001b[0m\n",
      "\u001b[1;32m<ipython-input-5-f0e7c305def6>\u001b[0m in \u001b[0;36mscore_knn\u001b[1;34m(k)\u001b[0m\n\u001b[0;32m     10\u001b[0m     \"\"\"\n\u001b[0;32m     11\u001b[0m     \u001b[0mscore\u001b[0m \u001b[1;33m=\u001b[0m \u001b[1;36m0\u001b[0m\u001b[1;33m\u001b[0m\u001b[1;33m\u001b[0m\u001b[0m\n\u001b[1;32m---> 12\u001b[1;33m     \u001b[0mprevisions\u001b[0m \u001b[1;33m=\u001b[0m \u001b[0meprouver_test\u001b[0m\u001b[1;33m(\u001b[0m\u001b[0miris_test\u001b[0m\u001b[1;33m,\u001b[0m \u001b[0mk\u001b[0m\u001b[1;33m)\u001b[0m\u001b[1;33m\u001b[0m\u001b[1;33m\u001b[0m\u001b[0m\n\u001b[0m\u001b[0;32m     13\u001b[0m \u001b[1;33m\u001b[0m\u001b[0m\n\u001b[0;32m     14\u001b[0m     \u001b[0mtaille_jeu_test\u001b[0m \u001b[1;33m=\u001b[0m \u001b[0mshape\u001b[0m\u001b[1;33m(\u001b[0m\u001b[0miris_test\u001b[0m\u001b[1;33m)\u001b[0m\u001b[1;33m[\u001b[0m\u001b[1;36m0\u001b[0m\u001b[1;33m]\u001b[0m\u001b[1;33m\u001b[0m\u001b[1;33m\u001b[0m\u001b[0m\n",
      "\u001b[1;31mNameError\u001b[0m: name 'eprouver_test' is not defined"
     ]
    }
   ],
   "source": [
    "def score_knn(k):\n",
    "    \"\"\"\n",
    "    Explications : Renvoie le pourcentage de succès des prédictions \"maison\" et la liste des prévisions \n",
    "                    en choisissant les k plus proches voisins\n",
    "\n",
    "    Paramètres :\n",
    "        - k : nombre de voisins les plus proches\n",
    "\n",
    "    retour : tuple (pourcentage de prévisons,liste des prévisions)\n",
    "    \"\"\"\n",
    "    score = 0\n",
    "    previsions = eprouver_test(iris_test, k)\n",
    "\n",
    "    taille_jeu_test = shape(iris_test)[0]\n",
    "    \n",
    "    #iris_test_species_record est la liste à utiliser pour comparer avec les prévisions\n",
    "    ###########To DO ##########\n",
    "    \n",
    "    \n",
    "    \n",
    "    return score / taille_jeu_test * 100, previsions\n",
    "\n",
    "\n",
    "\n",
    "\n",
    "\n",
    "print(\"\\n\\nPrévisions maison avec k = \", k)\n",
    "score, previsions = score_knn(k)\n",
    "print(previsions)\n",
    "print('score : ', score, ' %')\n",
    "\n",
    "##############Prévisions####################################################\n",
    "print(\"\\nVraies valeurs : \")\n",
    "print(list(iris_test_species_record))\n",
    "#############################################################################\n",
    "\n",
    "\n",
    "############Tests#######################################################\n",
    "if k == 3:\n",
    "    assert score == 100\n"
   ]
  },
  {
   "cell_type": "markdown",
   "metadata": {},
   "source": [
    "Application sur notre jeu de données de l'algorithme avec la bibliothèque Scikit-learn"
   ]
  },
  {
   "cell_type": "code",
   "execution_count": null,
   "metadata": {},
   "outputs": [],
   "source": [
    "#############SCIKIT-LEARN#####################################################\n",
    "scikit_test(iris_test,iris_train,iris_test_species_record,previsions,k)\n",
    "#############################################################################\n",
    "\n",
    "plt.show()"
   ]
  },
  {
   "cell_type": "markdown",
   "metadata": {},
   "source": [
    "----\n",
    "Machine Learning quand on n’y connaît rien ! - Frédéric Bouchery : https://www.youtube.com/watch?v=OEJX-q6UOag\n",
    "\n",
    "Source :\n",
    "* Article Wikipedia: https://fr.wikipedia.org/wiki/M%C3%A9thode_des_k_plus_proches_voisins\n",
    "* Cours sur pixees.fr: https://pixees.fr/informatiquelycee/n_site/nsi_prem_knn.html\n",
    "* Cours sur Lyceum : https://lyceum.fr/1g/nsi/8-algorithmique/3-algorithme-des-k-plus-proches-voisins\n",
    "* https://moncoachdata.com/blog/algorithme-k-plus-proches-voisins/\n",
    "* https://nadjarebinguet.wordpress.com/2020/03/20/algorithme-des-k-plus-proches-voisins/\n",
    "* La chaine Youtube Machine Learnia que je vous recommande chaudement (claire et détaillée) : https://www.youtube.com/watch?v=P6kSc3qVph0\n",
    "* Lazy learning : https://en.wikipedia.org/wiki/Lazy_learning\n"
   ]
  },
  {
   "cell_type": "code",
   "execution_count": null,
   "metadata": {},
   "outputs": [],
   "source": []
  }
 ],
 "metadata": {
  "kernelspec": {
   "display_name": "Python 3",
   "language": "python",
   "name": "python3"
  },
  "language_info": {
   "codemirror_mode": {
    "name": "ipython",
    "version": 3
   },
   "file_extension": ".py",
   "mimetype": "text/x-python",
   "name": "python",
   "nbconvert_exporter": "python",
   "pygments_lexer": "ipython3",
   "version": "3.7.3"
  }
 },
 "nbformat": 4,
 "nbformat_minor": 2
}
